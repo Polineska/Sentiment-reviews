{
  "nbformat": 4,
  "nbformat_minor": 0,
  "metadata": {
    "colab": {
      "provenance": [],
      "gpuType": "T4",
      "authorship_tag": "ABX9TyOBpQY71MxcOUj3rOxQSJRy",
      "include_colab_link": true
    },
    "kernelspec": {
      "name": "python3",
      "display_name": "Python 3"
    },
    "language_info": {
      "name": "python"
    },
    "accelerator": "GPU"
  },
  "cells": [
    {
      "cell_type": "markdown",
      "metadata": {
        "id": "view-in-github",
        "colab_type": "text"
      },
      "source": [
        "<a href=\"https://colab.research.google.com/github/Polineska/Sentiment-reviews/blob/main/GridSearch.ipynb\" target=\"_parent\"><img src=\"https://colab.research.google.com/assets/colab-badge.svg\" alt=\"Open In Colab\"/></a>"
      ]
    },
    {
      "cell_type": "code",
      "execution_count": null,
      "metadata": {
        "id": "HTLiQI-_n6fQ",
        "colab": {
          "base_uri": "https://localhost:8080/"
        },
        "outputId": "1a1a6258-cbe7-491f-f9c9-8cdb4c15b8d6"
      },
      "outputs": [
        {
          "output_type": "stream",
          "name": "stderr",
          "text": [
            "[nltk_data] Downloading package stopwords to /root/nltk_data...\n",
            "[nltk_data]   Unzipping corpora/stopwords.zip.\n",
            "[nltk_data] Downloading package punkt to /root/nltk_data...\n",
            "[nltk_data]   Unzipping tokenizers/punkt.zip.\n",
            "[nltk_data] Downloading package wordnet to /root/nltk_data...\n"
          ]
        }
      ],
      "source": [
        "import nltk\n",
        "nltk.download('stopwords')\n",
        "nltk.download('punkt')\n",
        "nltk.download('wordnet')\n",
        "import pandas as pd\n",
        "import numpy as np\n",
        "from sklearn.model_selection import train_test_split, GridSearchCV\n",
        "from sklearn.feature_extraction.text import TfidfVectorizer\n",
        "from sklearn.linear_model import LogisticRegression\n",
        "from sklearn.metrics import classification_report\n",
        "from nltk.corpus import stopwords\n",
        "from nltk.stem import WordNetLemmatizer\n",
        "from sklearn.pipeline import Pipeline\n",
        "from sklearn.preprocessing import LabelEncoder\n",
        "from sklearn.metrics import accuracy_score, classification_report"
      ]
    },
    {
      "cell_type": "code",
      "source": [
        "file_path = 'data (1).xlsx'\n",
        "xls = pd.ExcelFile(file_path)\n",
        "print(xls.sheet_names)"
      ],
      "metadata": {
        "id": "TmWsbMKboK50",
        "colab": {
          "base_uri": "https://localhost:8080/"
        },
        "outputId": "3d64c25a-478e-43f0-8d0f-0954ee0fb433"
      },
      "execution_count": null,
      "outputs": [
        {
          "output_type": "stream",
          "name": "stdout",
          "text": [
            "['подсчет', 'нетоксик_1_Лиза_1', 'нетоксик_1_АЩ_2', 'нетоксик_2_ПОЛЯНА_1', 'нетоксик_2_егор_2', 'токсик_1_ПОЛЯНА_1', 'токсик_1_егор_2', 'токсик_2_Вася_1', 'токсик_2_егор_2']\n"
          ]
        }
      ]
    },
    {
      "cell_type": "code",
      "source": [
        "df_list = [xls.parse(sheet) for sheet in xls.sheet_names]\n",
        "df = pd.concat(df_list, ignore_index=True)\n",
        "print(\"Столбцы в датасете:\", df.columns)"
      ],
      "metadata": {
        "id": "Ir-HjjDwoNHD",
        "colab": {
          "base_uri": "https://localhost:8080/"
        },
        "outputId": "ce4b7b58-0a39-499b-9ae8-6c38dc8c13e9"
      },
      "execution_count": null,
      "outputs": [
        {
          "output_type": "stream",
          "name": "stdout",
          "text": [
            "Столбцы в датасете: Index(['Unnamed: 0', 'сумма', 'токсик_1_ПОЛЯНА_1', 'токсик_2_Вася_1',\n",
            "       'нетоксик_1_Лиза_1', 'нетоксик_2_ПОЛЯНА_1', 'разметка', 'текст',\n",
            "       'контекст', 'Unnamed: 3', 'type', 'amount'],\n",
            "      dtype='object')\n"
          ]
        }
      ]
    },
    {
      "cell_type": "code",
      "source": [
        "stop_words = set(stopwords.words('russian'))\n",
        "lemmatizer = WordNetLemmatizer()"
      ],
      "metadata": {
        "id": "lwH01dYhpk3S"
      },
      "execution_count": null,
      "outputs": []
    },
    {
      "cell_type": "code",
      "source": [
        "def preprocess_text(text):\n",
        "    if isinstance(text, str):\n",
        "        text = text.lower()\n",
        "        text = ''.join([ch for ch in text if ch.isalnum() or ch.isspace()])\n",
        "        text = ' '.join([lemmatizer.lemmatize(word) for word in text.split() if word not in stop_words])\n",
        "    else:\n",
        "        text = \"\"\n",
        "    return text\n",
        "\n",
        "df['cleaned_comment'] = df['текст'].apply(preprocess_text)\n",
        "df['разметка'] = df['разметка'].replace({'neg': 'negative', 'neutal': 'neutral'})\n",
        "df = df.dropna(subset=['разметка'])\n",
        "print(\"Уникальные метки в 'разметка':\", df['разметка'].unique())"
      ],
      "metadata": {
        "id": "BWGz8POOpoz1",
        "colab": {
          "base_uri": "https://localhost:8080/"
        },
        "outputId": "bb09d549-c03e-488b-a70b-9c2280260827"
      },
      "execution_count": null,
      "outputs": [
        {
          "output_type": "stream",
          "name": "stdout",
          "text": [
            "Уникальные метки в 'разметка': ['speech' 'positive' 'negative' 'neutral' 'skip']\n"
          ]
        }
      ]
    },
    {
      "cell_type": "code",
      "source": [
        "X = df['cleaned_comment']\n",
        "y = df['разметка']\n",
        "\n",
        "label_encoder = LabelEncoder()\n",
        "y_encoded = label_encoder.fit_transform(y)\n",
        "X_train, X_test, y_train, y_test = train_test_split(X, y_encoded, test_size=0.2, random_state=42)\n",
        "\n",
        "pipeline = Pipeline([\n",
        "    ('tfidf', TfidfVectorizer(max_features=5000)),\n",
        "    ('clf', LogisticRegression())\n",
        "])\n",
        "param_grid = {\n",
        "    'clf__C': [0.1, 1, 10],\n",
        "    'clf__solver': ['liblinear', 'saga']}\n",
        "\n",
        "grid_search = GridSearchCV(pipeline, param_grid, cv=5, scoring='accuracy', n_jobs=-1)\n",
        "grid_search.fit(X_train, y_train)\n",
        "y_pred = grid_search.predict(X_test)\n",
        "unique_classes = np.unique(np.concatenate([y_test, y_pred]))\n",
        "target_names = [str(cls) for cls in label_encoder.classes_]\n",
        "\n",
        "print(f\"Лучшие параметры: {grid_search.best_params_}\")\n",
        "print(f\"Точность на тестовых данных: {grid_search.best_score_}\")\n",
        "print(\"\\nКлассификационный отчет:\\n\", classification_report(y_test, y_pred, labels=unique_classes, target_names=target_names))\n"
      ],
      "metadata": {
        "id": "4epN3LZLoBSw",
        "colab": {
          "base_uri": "https://localhost:8080/"
        },
        "outputId": "18d6bcae-8e7f-4284-e89a-c43b0152eda4"
      },
      "execution_count": null,
      "outputs": [
        {
          "output_type": "stream",
          "name": "stdout",
          "text": [
            "Лучшие параметры: {'clf__C': 10, 'clf__solver': 'saga'}\n",
            "Точность на тестовых данных: 0.7593172119487909\n",
            "\n",
            "Классификационный отчет:\n",
            "               precision    recall  f1-score   support\n",
            "\n",
            "    negative       0.65      0.46      0.54       283\n",
            "     neutral       0.44      0.30      0.35       286\n",
            "    positive       0.71      0.44      0.54       244\n",
            "        skip       0.78      0.92      0.84      1708\n",
            "      speech       0.87      0.62      0.72       116\n",
            "\n",
            "    accuracy                           0.74      2637\n",
            "   macro avg       0.69      0.55      0.60      2637\n",
            "weighted avg       0.73      0.74      0.72      2637\n",
            "\n"
          ]
        }
      ]
    },
    {
      "cell_type": "code",
      "source": [
        "import joblib\n",
        "joblib.dump(grid_search.best_estimator_, 'model.joblib')\n",
        "joblib.dump(grid_search.best_params_, 'model_params.joblib')"
      ],
      "metadata": {
        "id": "88_O3akRp_Af",
        "colab": {
          "base_uri": "https://localhost:8080/"
        },
        "outputId": "29ab94fb-75be-46c7-e542-94f8ff254352"
      },
      "execution_count": null,
      "outputs": [
        {
          "output_type": "execute_result",
          "data": {
            "text/plain": [
              "['model_params.joblib']"
            ]
          },
          "metadata": {},
          "execution_count": 7
        }
      ]
    },
    {
      "cell_type": "code",
      "source": [
        "model = joblib.load('model.joblib')\n",
        "\n",
        "test_file_path = 'Test_data.xlsx'\n",
        "test_xls = pd.ExcelFile(test_file_path)\n",
        "\n",
        "print(test_xls.sheet_names)"
      ],
      "metadata": {
        "id": "hcXCss-PqH9c",
        "colab": {
          "base_uri": "https://localhost:8080/"
        },
        "outputId": "f2800218-65bb-4887-d290-517ae843a25f"
      },
      "execution_count": null,
      "outputs": [
        {
          "output_type": "stream",
          "name": "stdout",
          "text": [
            "['подсчет', 'нетоксик_1_Лиза_1', 'нетоксик_1_АЩ_2', 'нетоксик_2_ПОЛЯНА_1', 'нетоксик_2_егор_2', 'токсик_1_ПОЛЯНА_1', 'токсик_1_егор_2', 'токсик_2_Вася_1', 'токсик_2_егор_2']\n"
          ]
        }
      ]
    },
    {
      "cell_type": "code",
      "source": [
        "test_df_list = [test_xls.parse(sheet) for sheet in test_xls.sheet_names]\n",
        "test_df = pd.concat(test_df_list, ignore_index=True)\n",
        "test_df = test_df.dropna(subset=['разметка'])\n",
        "test_df['разметка'] = test_df['разметка'].replace({'ne': 'neutral'})"
      ],
      "metadata": {
        "id": "je3CvjsAqV5R"
      },
      "execution_count": null,
      "outputs": []
    },
    {
      "cell_type": "code",
      "source": [
        "valid_labels = label_encoder.classes_\n",
        "test_df = test_df[test_df['разметка'].isin(valid_labels)]"
      ],
      "metadata": {
        "id": "BnbU7sl8qZmv"
      },
      "execution_count": null,
      "outputs": []
    },
    {
      "cell_type": "code",
      "source": [
        "test_df['cleaned_comment'] = test_df['текст'].apply(preprocess_text)\n",
        "\n",
        "test_X = test_df['cleaned_comment']\n",
        "test_y_pred = model.predict(test_X)\n",
        "test_y_pred_labels = label_encoder.inverse_transform(test_y_pred)\n",
        "test_y_true = test_df['разметка']\n",
        "test_y_true_encoded = label_encoder.transform(test_y_true)\n",
        "\n",
        "accuracy = accuracy_score(test_y_true_encoded, test_y_pred)\n",
        "print(f\"Точность модели на тестовых данных: {accuracy:.4f}\")\n",
        "\n",
        "target_names = label_encoder.classes_\n",
        "print(\"\\nКлассификационный отчет:\\n\", classification_report(test_y_true_encoded, test_y_pred, target_names=target_names))"
      ],
      "metadata": {
        "id": "3D6n_GjhqEXB",
        "colab": {
          "base_uri": "https://localhost:8080/"
        },
        "outputId": "903b65ac-b4a2-47fb-a600-02c2fe169e67"
      },
      "execution_count": null,
      "outputs": [
        {
          "output_type": "stream",
          "name": "stdout",
          "text": [
            "Точность модели на тестовых данных: 0.8777\n",
            "\n",
            "Классификационный отчет:\n",
            "               precision    recall  f1-score   support\n",
            "\n",
            "    negative       0.86      0.71      0.78      1280\n",
            "     neutral       0.79      0.60      0.68      1166\n",
            "    positive       0.86      0.65      0.74      1054\n",
            "        skip       0.89      0.97      0.93      8698\n",
            "      speech       0.94      0.80      0.86       545\n",
            "\n",
            "    accuracy                           0.88     12743\n",
            "   macro avg       0.87      0.75      0.80     12743\n",
            "weighted avg       0.88      0.88      0.87     12743\n",
            "\n"
          ]
        }
      ]
    },
    {
      "cell_type": "code",
      "source": [
        "import matplotlib.pyplot as plt\n",
        "import seaborn as sns\n",
        "from sklearn.metrics import classification_report\n",
        "import pandas as pd\n",
        "\n",
        "report = classification_report(test_y_true_encoded, test_y_pred, target_names=target_names, output_dict=True)\n",
        "report_df = pd.DataFrame(report).transpose()\n",
        "report_df = report_df.iloc[:-3, :-1]\n",
        "fig, axes = plt.subplots(1, 3, figsize=(18, 6))\n",
        "\n",
        "sns.barplot(x=report_df.index, y=report_df['precision'], ax=axes[0], palette='Blues')\n",
        "axes[0].set_title('Точность (Precision)')\n",
        "axes[0].set_ylabel('Precision')\n",
        "axes[0].set_xlabel('Классы')\n",
        "\n",
        "sns.barplot(x=report_df.index, y=report_df['recall'], ax=axes[1], palette='Greens')\n",
        "axes[1].set_title('Полнота (Recall)')\n",
        "axes[1].set_ylabel('Recall')\n",
        "axes[1].set_xlabel('Классы')\n",
        "\n",
        "sns.barplot(x=report_df.index, y=report_df['f1-score'], ax=axes[2], palette='Oranges')\n",
        "axes[2].set_title('F1-меры (F1-Score)')\n",
        "axes[2].set_ylabel('F1-Score')\n",
        "axes[2].set_xlabel('Классы')\n",
        "\n",
        "plt.tight_layout()\n",
        "plt.show()"
      ],
      "metadata": {
        "id": "YsOiIlE-qgKN",
        "colab": {
          "base_uri": "https://localhost:8080/",
          "height": 518
        },
        "outputId": "062097b5-f619-49de-f942-11cac638dfad"
      },
      "execution_count": null,
      "outputs": [
        {
          "output_type": "stream",
          "name": "stderr",
          "text": [
            "<ipython-input-13-9b27bdb655cb>:11: FutureWarning: \n",
            "\n",
            "Passing `palette` without assigning `hue` is deprecated and will be removed in v0.14.0. Assign the `x` variable to `hue` and set `legend=False` for the same effect.\n",
            "\n",
            "  sns.barplot(x=report_df.index, y=report_df['precision'], ax=axes[0], palette='Blues')\n",
            "<ipython-input-13-9b27bdb655cb>:16: FutureWarning: \n",
            "\n",
            "Passing `palette` without assigning `hue` is deprecated and will be removed in v0.14.0. Assign the `x` variable to `hue` and set `legend=False` for the same effect.\n",
            "\n",
            "  sns.barplot(x=report_df.index, y=report_df['recall'], ax=axes[1], palette='Greens')\n",
            "<ipython-input-13-9b27bdb655cb>:21: FutureWarning: \n",
            "\n",
            "Passing `palette` without assigning `hue` is deprecated and will be removed in v0.14.0. Assign the `x` variable to `hue` and set `legend=False` for the same effect.\n",
            "\n",
            "  sns.barplot(x=report_df.index, y=report_df['f1-score'], ax=axes[2], palette='Oranges')\n"
          ]
        },
        {
          "output_type": "display_data",
          "data": {
            "text/plain": [
              "<Figure size 1800x600 with 3 Axes>"
            ],
            "image/png": "[encoded data removed]"
          },
          "metadata": {}
        }
      ]
    }
  ]
}